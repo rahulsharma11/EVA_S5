{
  "cells": [
    {
      "cell_type": "markdown",
      "source": [
        "\n",
        "\n",
        "```\n",
        "Target:\n",
        "        1) Have to achive the given target accuracy and should be consistent.\n",
        "        2) Use different Image Augmantation and different LR scheduler.\n",
        "        3) Only 15 epochs.\n",
        "Result:\n",
        "        1) Best Training Accuracy: 98.69\n",
        "        2) Best Test Accuracy: 99.45\n",
        "        3) Params: 9.98k.\n",
        "Analysis:\n",
        "        1) i got what is required.\n",
        "        2) LR scheduler helped because i have seen there was accuracy stablising at around last few epochs, so i should\n",
        "        lower the LR over there.\n",
        "        3) This model can be further pushed but not required as of now :-)\n",
        "\n",
        "```\n",
        "\n"
      ],
      "metadata": {
        "id": "p_Y-aO5PSlBd"
      }
    },
    {
      "cell_type": "code",
      "execution_count": 9,
      "metadata": {
        "id": "6y3UyMvLXWp1"
      },
      "outputs": [],
      "source": [
        "from __future__ import print_function\n",
        "import torch\n",
        "import torch.nn as nn\n",
        "import torch.nn.functional as F\n",
        "import torch.optim as optim\n",
        "from torchvision import datasets, transforms"
      ]
    },
    {
      "cell_type": "code",
      "execution_count": 10,
      "metadata": {
        "id": "wcWMaKPLXhiw"
      },
      "outputs": [],
      "source": [
        "class Net(nn.Module):\n",
        "  def __init__(self):\n",
        "    super(Net, self).__init__()\n",
        "    self.convolution1 = nn.Sequential(\n",
        "        nn.Conv2d(1, 10, 3, padding=1),\n",
        "        nn.ReLU(),\n",
        "        nn.BatchNorm2d(10),\n",
        "        nn.Conv2d(10, 20, 3, padding=1),\n",
        "        nn.ReLU(),\n",
        "        nn.BatchNorm2d(20),\n",
        "        nn.MaxPool2d(2,2),\n",
        "        nn.Dropout(0.15)\n",
        "    )\n",
        "    self.convolution2 = nn.Sequential(\n",
        "        nn.Conv2d(20, 16, 3, padding=1),\n",
        "        nn.ReLU(),\n",
        "        nn.BatchNorm2d(16),\n",
        "        nn.Conv2d(16, 12, 3, padding=1),\n",
        "        nn.ReLU(),\n",
        "        nn.BatchNorm2d(12),\n",
        "        nn.MaxPool2d(2,2),\n",
        "        nn.Dropout(0.15)\n",
        "    )\n",
        "    self.convolution3 = nn.Sequential(\n",
        "        nn.Conv2d(12, 12, 3),\n",
        "        nn.Conv2d(12, 10, 3),\n",
        "        nn.Conv2d(10, 10, 3)\n",
        "        # nn.ReLU(),\n",
        "        # nn.Conv2d(16, 10, 3),\n",
        "    )\n",
        "  def forward(self, x):\n",
        "    x = self.convolution1(x)\n",
        "    x = self.convolution2(x)\n",
        "    x = self.convolution3(x)\n",
        "    x = x.view(-1,10)\n",
        "    return F.log_softmax(x)"
      ]
    },
    {
      "cell_type": "code",
      "source": [
        "!pip install torchsummary\n",
        "from torchsummary import summary\n",
        "use_cuda = torch.cuda.is_available()\n",
        "device = torch.device(\"cuda\" if use_cuda else \"cpu\")\n",
        "model = Net().to(device)\n",
        "summary(model, input_size=(1, 28, 28))"
      ],
      "metadata": {
        "colab": {
          "base_uri": "https://localhost:8080/"
        },
        "id": "jzaIZcAvXx6s",
        "outputId": "52f0b107-fe7b-4d05-bcdc-3c9365f560a7"
      },
      "execution_count": 11,
      "outputs": [
        {
          "output_type": "stream",
          "name": "stdout",
          "text": [
            "Requirement already satisfied: torchsummary in /usr/local/lib/python3.7/dist-packages (1.5.1)\n",
            "----------------------------------------------------------------\n",
            "        Layer (type)               Output Shape         Param #\n",
            "================================================================\n",
            "            Conv2d-1           [-1, 10, 28, 28]             100\n",
            "              ReLU-2           [-1, 10, 28, 28]               0\n",
            "       BatchNorm2d-3           [-1, 10, 28, 28]              20\n",
            "            Conv2d-4           [-1, 20, 28, 28]           1,820\n",
            "              ReLU-5           [-1, 20, 28, 28]               0\n",
            "       BatchNorm2d-6           [-1, 20, 28, 28]              40\n",
            "         MaxPool2d-7           [-1, 20, 14, 14]               0\n",
            "           Dropout-8           [-1, 20, 14, 14]               0\n",
            "            Conv2d-9           [-1, 16, 14, 14]           2,896\n",
            "             ReLU-10           [-1, 16, 14, 14]               0\n",
            "      BatchNorm2d-11           [-1, 16, 14, 14]              32\n",
            "           Conv2d-12           [-1, 12, 14, 14]           1,740\n",
            "             ReLU-13           [-1, 12, 14, 14]               0\n",
            "      BatchNorm2d-14           [-1, 12, 14, 14]              24\n",
            "        MaxPool2d-15             [-1, 12, 7, 7]               0\n",
            "          Dropout-16             [-1, 12, 7, 7]               0\n",
            "           Conv2d-17             [-1, 12, 5, 5]           1,308\n",
            "           Conv2d-18             [-1, 10, 3, 3]           1,090\n",
            "           Conv2d-19             [-1, 10, 1, 1]             910\n",
            "================================================================\n",
            "Total params: 9,980\n",
            "Trainable params: 9,980\n",
            "Non-trainable params: 0\n",
            "----------------------------------------------------------------\n",
            "Input size (MB): 0.00\n",
            "Forward/backward pass size (MB): 0.74\n",
            "Params size (MB): 0.04\n",
            "Estimated Total Size (MB): 0.78\n",
            "----------------------------------------------------------------\n"
          ]
        },
        {
          "output_type": "stream",
          "name": "stderr",
          "text": [
            "/usr/local/lib/python3.7/dist-packages/ipykernel_launcher.py:36: UserWarning: Implicit dimension choice for log_softmax has been deprecated. Change the call to include dim=X as an argument.\n"
          ]
        }
      ]
    },
    {
      "cell_type": "code",
      "source": [
        "torch.manual_seed(1)\n",
        "batch_size=128\n",
        "kwargs = {'num_workers': 1, 'pin_memory': True} if use_cuda else {}\n",
        "\n",
        "train_loader = torch.utils.data.DataLoader(\n",
        "                datasets.MNIST(\"../data\", train=True, download=True,\n",
        "                               transform = transforms.Compose([\n",
        "                                            transforms.RandomAffine(degrees=3, translate=(0.1,0.1), scale=(0.9, 1.1)),\n",
        "                                            #transforms.ColorJitter(brightness=0.1, contrast=0.2),\n",
        "                                            transforms.ToTensor(),\n",
        "                                            transforms.Normalize((0.1307,), (0.3081,))\n",
        "                               ])),\n",
        "                batch_size=batch_size, shuffle=True, **kwargs\n",
        "              )\n",
        "test_loader = torch.utils.data.DataLoader(\n",
        "              datasets.MNIST(\"../data\", train=False, download=True,\n",
        "                             transform = transforms.Compose([\n",
        "                                          transforms.ToTensor(),\n",
        "                                          transforms.Normalize((0.1307,),(0.3081,))\n",
        "                             ])),\n",
        "              batch_size=batch_size, shuffle=True, **kwargs\n",
        "              )"
      ],
      "metadata": {
        "id": "wB4Pr8VjX1DX"
      },
      "execution_count": 12,
      "outputs": []
    },
    {
      "cell_type": "code",
      "source": [
        "model = Net().to(device)\n",
        "optimizer = optim.SGD(model.parameters(), lr=0.01, momentum=0.9)\n",
        "#scheduler = torch.optim.lr_scheduler.ExponentialLR(optimizer, gamma=0.9)\n",
        "scheduler = torch.optim.lr_scheduler.MultiStepLR(optimizer, milestones=[10,13], gamma=0.2)"
      ],
      "metadata": {
        "id": "XjLB2SxDsLRl"
      },
      "execution_count": 23,
      "outputs": []
    },
    {
      "cell_type": "code",
      "source": [
        "from tqdm import tqdm\n",
        "train_loss = []\n",
        "train_acc = []\n",
        "def train(model, device, train_loader, optimizer, epoch):\n",
        "    model.train()\n",
        "\n",
        "    correct=0\n",
        "    processed=0\n",
        "    pbar = tqdm(train_loader)\n",
        "    for batch_idx, (data, target) in enumerate(pbar):\n",
        "        data, target = data.to(device), target.to(device)\n",
        "        optimizer.zero_grad()\n",
        "        output = model(data)\n",
        "        loss = F.nll_loss(output, target)\n",
        "        train_loss.append(loss)\n",
        "        loss.backward()\n",
        "        optimizer.step()\n",
        "        pred = output.argmax(dim=1, keepdim=True)\n",
        "        correct += pred.eq(target.view_as(pred)).sum().item()\n",
        "        processed += len(data)\n",
        "\n",
        "        pbar.set_description(desc= f'loss={loss.item()} batch_id={batch_idx} Accuracy={100*correct/processed}')\n",
        "        train_acc.append(100*correct/processed)\n",
        "    scheduler.step()\n",
        "\n",
        "\n",
        "def test(model, device, test_loader):\n",
        "    model.eval()\n",
        "    test_loss = 0\n",
        "    correct = 0\n",
        "    with torch.no_grad():\n",
        "        for data, target in test_loader:\n",
        "            data, target = data.to(device), target.to(device)\n",
        "            output = model(data)\n",
        "            test_loss += F.nll_loss(output, target, reduction='sum').item()  # sum up batch loss\n",
        "            pred = output.argmax(dim=1, keepdim=True)  # get the index of the max log-probability\n",
        "            correct += pred.eq(target.view_as(pred)).sum().item()\n",
        "\n",
        "    test_loss /= len(test_loader.dataset)\n",
        "\n",
        "    print('\\nTest set: Average loss: {:.4f}, Accuracy: {}/{} ({:.0f}%)\\n'.format(\n",
        "        test_loss, correct, len(test_loader.dataset),\n",
        "        100. * correct / len(test_loader.dataset)))"
      ],
      "metadata": {
        "id": "2rHh6dcfX62x"
      },
      "execution_count": 24,
      "outputs": []
    },
    {
      "cell_type": "code",
      "source": [
        "for epoch in range(0, 15):\n",
        "  print (f\"epoch : {epoch}\")\n",
        "  train(model, device, train_loader, optimizer, epoch)\n",
        "  test(model, device, test_loader)"
      ],
      "metadata": {
        "colab": {
          "base_uri": "https://localhost:8080/"
        },
        "id": "e4a5gUb6X7LG",
        "outputId": "4b9abfb9-f3dc-4096-d756-2e82f41b2a21"
      },
      "execution_count": 25,
      "outputs": [
        {
          "output_type": "stream",
          "name": "stdout",
          "text": [
            "epoch : 0\n"
          ]
        },
        {
          "output_type": "stream",
          "name": "stderr",
          "text": [
            "  0%|          | 0/469 [00:00<?, ?it/s]/usr/local/lib/python3.7/dist-packages/ipykernel_launcher.py:36: UserWarning: Implicit dimension choice for log_softmax has been deprecated. Change the call to include dim=X as an argument.\n",
            "loss=0.15729832649230957 batch_id=468 Accuracy=88.605: 100%|██████████| 469/469 [00:34<00:00, 13.65it/s]\n"
          ]
        },
        {
          "output_type": "stream",
          "name": "stdout",
          "text": [
            "\n",
            "Test set: Average loss: 0.0456, Accuracy: 9848/10000 (98%)\n",
            "\n",
            "epoch : 1\n"
          ]
        },
        {
          "output_type": "stream",
          "name": "stderr",
          "text": [
            "loss=0.22730036079883575 batch_id=468 Accuracy=96.53166666666667: 100%|██████████| 469/469 [00:34<00:00, 13.69it/s]\n"
          ]
        },
        {
          "output_type": "stream",
          "name": "stdout",
          "text": [
            "\n",
            "Test set: Average loss: 0.0464, Accuracy: 9849/10000 (98%)\n",
            "\n",
            "epoch : 2\n"
          ]
        },
        {
          "output_type": "stream",
          "name": "stderr",
          "text": [
            "loss=0.05269978940486908 batch_id=468 Accuracy=97.17666666666666: 100%|██████████| 469/469 [00:34<00:00, 13.69it/s]\n"
          ]
        },
        {
          "output_type": "stream",
          "name": "stdout",
          "text": [
            "\n",
            "Test set: Average loss: 0.0330, Accuracy: 9891/10000 (99%)\n",
            "\n",
            "epoch : 3\n"
          ]
        },
        {
          "output_type": "stream",
          "name": "stderr",
          "text": [
            "loss=0.05068874731659889 batch_id=468 Accuracy=97.475: 100%|██████████| 469/469 [00:34<00:00, 13.57it/s]\n"
          ]
        },
        {
          "output_type": "stream",
          "name": "stdout",
          "text": [
            "\n",
            "Test set: Average loss: 0.0332, Accuracy: 9899/10000 (99%)\n",
            "\n",
            "epoch : 4\n"
          ]
        },
        {
          "output_type": "stream",
          "name": "stderr",
          "text": [
            "loss=0.11042565107345581 batch_id=468 Accuracy=97.725: 100%|██████████| 469/469 [00:34<00:00, 13.59it/s]\n"
          ]
        },
        {
          "output_type": "stream",
          "name": "stdout",
          "text": [
            "\n",
            "Test set: Average loss: 0.0305, Accuracy: 9904/10000 (99%)\n",
            "\n",
            "epoch : 5\n"
          ]
        },
        {
          "output_type": "stream",
          "name": "stderr",
          "text": [
            "loss=0.10413410514593124 batch_id=468 Accuracy=97.79166666666667: 100%|██████████| 469/469 [00:34<00:00, 13.68it/s]\n"
          ]
        },
        {
          "output_type": "stream",
          "name": "stdout",
          "text": [
            "\n",
            "Test set: Average loss: 0.0281, Accuracy: 9922/10000 (99%)\n",
            "\n",
            "epoch : 6\n"
          ]
        },
        {
          "output_type": "stream",
          "name": "stderr",
          "text": [
            "loss=0.09062623977661133 batch_id=468 Accuracy=97.915: 100%|██████████| 469/469 [00:34<00:00, 13.48it/s]\n"
          ]
        },
        {
          "output_type": "stream",
          "name": "stdout",
          "text": [
            "\n",
            "Test set: Average loss: 0.0255, Accuracy: 9918/10000 (99%)\n",
            "\n",
            "epoch : 7\n"
          ]
        },
        {
          "output_type": "stream",
          "name": "stderr",
          "text": [
            "loss=0.07282953709363937 batch_id=468 Accuracy=98.09166666666667: 100%|██████████| 469/469 [00:34<00:00, 13.62it/s]\n"
          ]
        },
        {
          "output_type": "stream",
          "name": "stdout",
          "text": [
            "\n",
            "Test set: Average loss: 0.0251, Accuracy: 9919/10000 (99%)\n",
            "\n",
            "epoch : 8\n"
          ]
        },
        {
          "output_type": "stream",
          "name": "stderr",
          "text": [
            "loss=0.0062318467535078526 batch_id=468 Accuracy=98.10333333333334: 100%|██████████| 469/469 [00:34<00:00, 13.67it/s]\n"
          ]
        },
        {
          "output_type": "stream",
          "name": "stdout",
          "text": [
            "\n",
            "Test set: Average loss: 0.0239, Accuracy: 9918/10000 (99%)\n",
            "\n",
            "epoch : 9\n"
          ]
        },
        {
          "output_type": "stream",
          "name": "stderr",
          "text": [
            "loss=0.09390576928853989 batch_id=468 Accuracy=98.19166666666666: 100%|██████████| 469/469 [00:34<00:00, 13.77it/s]\n"
          ]
        },
        {
          "output_type": "stream",
          "name": "stdout",
          "text": [
            "\n",
            "Test set: Average loss: 0.0208, Accuracy: 9928/10000 (99%)\n",
            "\n",
            "epoch : 10\n"
          ]
        },
        {
          "output_type": "stream",
          "name": "stderr",
          "text": [
            "loss=0.05991135165095329 batch_id=468 Accuracy=98.49666666666667: 100%|██████████| 469/469 [00:33<00:00, 13.84it/s]\n"
          ]
        },
        {
          "output_type": "stream",
          "name": "stdout",
          "text": [
            "\n",
            "Test set: Average loss: 0.0199, Accuracy: 9939/10000 (99%)\n",
            "\n",
            "epoch : 11\n"
          ]
        },
        {
          "output_type": "stream",
          "name": "stderr",
          "text": [
            "loss=0.06364145874977112 batch_id=468 Accuracy=98.60166666666667: 100%|██████████| 469/469 [00:34<00:00, 13.78it/s]\n"
          ]
        },
        {
          "output_type": "stream",
          "name": "stdout",
          "text": [
            "\n",
            "Test set: Average loss: 0.0201, Accuracy: 9933/10000 (99%)\n",
            "\n",
            "epoch : 12\n"
          ]
        },
        {
          "output_type": "stream",
          "name": "stderr",
          "text": [
            "loss=0.021877368912100792 batch_id=468 Accuracy=98.69: 100%|██████████| 469/469 [00:34<00:00, 13.74it/s]\n"
          ]
        },
        {
          "output_type": "stream",
          "name": "stdout",
          "text": [
            "\n",
            "Test set: Average loss: 0.0185, Accuracy: 9942/10000 (99%)\n",
            "\n",
            "epoch : 13\n"
          ]
        },
        {
          "output_type": "stream",
          "name": "stderr",
          "text": [
            "loss=0.16691547632217407 batch_id=468 Accuracy=98.62833333333333: 100%|██████████| 469/469 [00:34<00:00, 13.72it/s]\n"
          ]
        },
        {
          "output_type": "stream",
          "name": "stdout",
          "text": [
            "\n",
            "Test set: Average loss: 0.0188, Accuracy: 9943/10000 (99%)\n",
            "\n",
            "epoch : 14\n"
          ]
        },
        {
          "output_type": "stream",
          "name": "stderr",
          "text": [
            "loss=0.01650872640311718 batch_id=468 Accuracy=98.67666666666666: 100%|██████████| 469/469 [00:33<00:00, 13.80it/s]\n"
          ]
        },
        {
          "output_type": "stream",
          "name": "stdout",
          "text": [
            "\n",
            "Test set: Average loss: 0.0182, Accuracy: 9945/10000 (99%)\n",
            "\n"
          ]
        }
      ]
    },
    {
      "cell_type": "code",
      "source": [
        ""
      ],
      "metadata": {
        "id": "UetA7EAqZBQ_"
      },
      "execution_count": 21,
      "outputs": []
    }
  ],
  "metadata": {
    "accelerator": "GPU",
    "colab": {
      "collapsed_sections": [],
      "name": "S5f5.ipynb",
      "toc_visible": true,
      "provenance": []
    },
    "kernelspec": {
      "display_name": "Python 3",
      "name": "python3"
    },
    "language_info": {
      "name": "python"
    }
  },
  "nbformat": 4,
  "nbformat_minor": 0
}